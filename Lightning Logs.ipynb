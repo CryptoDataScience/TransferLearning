{
 "cells": [
  {
   "cell_type": "code",
   "execution_count": 1,
   "id": "d040dd03",
   "metadata": {},
   "outputs": [],
   "source": [
    "\n",
    "\n",
    "from pytorch_lightning.loggers import TensorBoardLogger"
   ]
  },
  {
   "cell_type": "code",
   "execution_count": 2,
   "id": "cb561486",
   "metadata": {},
   "outputs": [],
   "source": [
    "\n",
    "\n",
    "##from pytorch_lightning.loggers import TensorBoardLogger\n",
    "\n",
    "##logger = TensorBoardLogger(\"lightning_logs\", name=\"toxic-comments_c\")\n",
    "\n",
    "\n",
    "##taskkill /im tensorboard.exe /f\n",
    "##del /q %TMP%\\.tensorboard-info\\*\n"
   ]
  },
  {
   "cell_type": "code",
   "execution_count": null,
   "id": "f969d008",
   "metadata": {},
   "outputs": [],
   "source": []
  },
  {
   "cell_type": "code",
   "execution_count": 3,
   "id": "64b38468",
   "metadata": {
    "scrolled": true
   },
   "outputs": [],
   "source": [
    "# Load the TensorBoard notebook extension\n",
    "%load_ext tensorboard\n",
    "\n",
    "\n",
    "\n",
    "# Start TensorBoard within the notebook\n",
    "##%tensorboard --logdir ./lightning_logs --host localhost"
   ]
  },
  {
   "cell_type": "code",
   "execution_count": 4,
   "id": "e29bc020",
   "metadata": {},
   "outputs": [
    {
     "data": {
      "text/html": [
       "\n",
       "      <iframe id=\"tensorboard-frame-e6d9ec4529aef82e\" width=\"100%\" height=\"800\" frameborder=\"0\">\n",
       "      </iframe>\n",
       "      <script>\n",
       "        (function() {\n",
       "          const frame = document.getElementById(\"tensorboard-frame-e6d9ec4529aef82e\");\n",
       "          const url = new URL(\"/\", window.location);\n",
       "          const port = 6006;\n",
       "          if (port) {\n",
       "            url.port = port;\n",
       "          }\n",
       "          frame.src = url;\n",
       "        })();\n",
       "      </script>\n",
       "    "
      ],
      "text/plain": [
       "<IPython.core.display.HTML object>"
      ]
     },
     "metadata": {},
     "output_type": "display_data"
    }
   ],
   "source": [
    "%tensorboard --logdir ./lightning_logs --host localhost"
   ]
  },
  {
   "cell_type": "code",
   "execution_count": null,
   "id": "217e3c84",
   "metadata": {},
   "outputs": [],
   "source": []
  },
  {
   "cell_type": "code",
   "execution_count": null,
   "id": "69816c22",
   "metadata": {},
   "outputs": [],
   "source": []
  }
 ],
 "metadata": {
  "kernelspec": {
   "display_name": "Python [conda env:deeplearning]",
   "language": "python",
   "name": "conda-env-deeplearning-py"
  },
  "language_info": {
   "codemirror_mode": {
    "name": "ipython",
    "version": 3
   },
   "file_extension": ".py",
   "mimetype": "text/x-python",
   "name": "python",
   "nbconvert_exporter": "python",
   "pygments_lexer": "ipython3",
   "version": "3.10.13"
  }
 },
 "nbformat": 4,
 "nbformat_minor": 5
}
